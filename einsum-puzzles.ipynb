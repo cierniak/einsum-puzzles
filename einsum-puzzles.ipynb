{
 "cells": [
  {
   "cell_type": "markdown",
   "id": "d1cd6ce1-233a-4330-9e08-ba9891ca021d",
   "metadata": {},
   "source": [
    "# Einsum Puzzles\n",
    "This Colab will teach you how to use numpy.einsum through examples."
   ]
  },
  {
   "cell_type": "code",
   "execution_count": 1,
   "id": "2f07eef4-42ae-4f89-97f7-e6969a9d0394",
   "metadata": {},
   "outputs": [],
   "source": [
    "import numpy as np"
   ]
  },
  {
   "cell_type": "code",
   "execution_count": 2,
   "id": "7603a5fd",
   "metadata": {},
   "outputs": [
    {
     "name": "stdout",
     "output_type": "stream",
     "text": [
      "u=array([0, 1, 2, 3, 4])\n",
      "u.shape=(5,)\n",
      "r=array([0, 1, 2, 3, 4])\n",
      "r.shape=(5,)\n"
     ]
    }
   ],
   "source": [
    "vector_length = 5\n",
    "u = np.arange(vector_length)\n",
    "print(f\"{u=}\")\n",
    "print(f\"{u.shape=}\")\n",
    "\n",
    "r = np.einsum(\"i->i\", u)\n",
    "print(f\"{r=}\")\n",
    "print(f\"{r.shape=}\")"
   ]
  },
  {
   "cell_type": "code",
   "execution_count": null,
   "id": "d50555b3",
   "metadata": {},
   "outputs": [],
   "source": []
  }
 ],
 "metadata": {
  "kernelspec": {
   "display_name": "Python 3 (ipykernel)",
   "language": "python",
   "name": "python3"
  },
  "language_info": {
   "codemirror_mode": {
    "name": "ipython",
    "version": 3
   },
   "file_extension": ".py",
   "mimetype": "text/x-python",
   "name": "python",
   "nbconvert_exporter": "python",
   "pygments_lexer": "ipython3",
   "version": "3.12.1"
  }
 },
 "nbformat": 4,
 "nbformat_minor": 5
}
