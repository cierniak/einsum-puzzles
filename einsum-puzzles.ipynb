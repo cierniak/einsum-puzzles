{
  "cells": [
    {
      "cell_type": "markdown",
      "id": "d1cd6ce1-233a-4330-9e08-ba9891ca021d",
      "metadata": {
        "id": "d1cd6ce1-233a-4330-9e08-ba9891ca021d"
      },
      "source": [
        "# Einsum Puzzles\n",
        "This Colab will teach you how to use numpy.einsum through examples."
      ]
    },
    {
      "cell_type": "code",
      "execution_count": 2,
      "id": "2f07eef4-42ae-4f89-97f7-e6969a9d0394",
      "metadata": {
        "id": "2f07eef4-42ae-4f89-97f7-e6969a9d0394"
      },
      "outputs": [],
      "source": [
        "# einsum is available in numpy, torch and JAX, so the following would all work:\n",
        "# np.einsum, torch.einsum, jnp.einsum\n",
        "# Let's start with numpy.\n",
        "\n",
        "import numpy as np\n",
        "\n",
        "def check_answer(expected, given):\n",
        "  if expected.shape != given.shape:\n",
        "    print(\"Shape mismatch!\")\n",
        "    print(f\"Expected shape: {expected.shape}\")\n",
        "    print(f\"Given shape: {given.shape}\")\n",
        "    return\n",
        "  if np.allclose(expected, given):\n",
        "    print(\"Correct!\")\n",
        "  else:\n",
        "    print(\"Incorrect!\")"
      ]
    },
    {
      "cell_type": "markdown",
      "id": "eceeabbf-7896-4a5c-abd0-38627cf0b536",
      "metadata": {
        "id": "eceeabbf-7896-4a5c-abd0-38627cf0b536"
      },
      "source": [
        "`einsum` allows you to create operations in which multiple inputs (vectors, arrays, or more generally, tensors of any rank) are combined to create a single result. A typical call would look like this:\n",
        "```\n",
        "d = np.einsum(\"◻◻,◻◻◻,◻◻->◻◻\", a, b, c)\n",
        "```\n",
        "where `a`, `b`, and `c` are inputs and `d` is the result. The subscripts string `\"◻◻,◻◻◻,◻◻->◻◻\"` has two parts separated by `->`:\n",
        "- The left part describes the dimensions of the inputs. There will be one description per input and they are separated by commas.\n",
        "- The right part describes the dimensions of the result.\n",
        "\n",
        "Here's our first example:"
      ]
    },
    {
      "cell_type": "code",
      "execution_count": null,
      "id": "b9a8b3d3-6a11-47c1-8bb8-354eff5efd53",
      "metadata": {
        "id": "b9a8b3d3-6a11-47c1-8bb8-354eff5efd53"
      },
      "outputs": [],
      "source": [
        "vector_length = 5\n",
        "u = np.arange(vector_length)\n",
        "print(f\"{u.shape=}\")\n",
        "print(f\"u: {u}\")\n",
        "\n",
        "r = np.einsum(\"i->i\", u)\n",
        "print(f\"{r.shape=}\")\n",
        "print(f\"r: {r}\")"
      ]
    },
    {
      "cell_type": "markdown",
      "id": "2084a408-6dd8-42bc-94bc-6c14432e84ce",
      "metadata": {
        "id": "2084a408-6dd8-42bc-94bc-6c14432e84ce"
      },
      "source": [
        "In the example above, there is one input `u`, which is a vector. The left part of the subscripts string is `\"i\"`. The use of a single letter means that the input has one dimension. The output is also specified as `\"i\"`, so it ends up being identical to the input.\n",
        "\n",
        "The choice of the letter does't matter, so instead of `\"i\"` we could have used `\"x\"` or any other letter, and the result would be the same:"
      ]
    },
    {
      "cell_type": "code",
      "execution_count": null,
      "id": "01cc60e1-71d4-4ce6-8025-fb1da0ac3632",
      "metadata": {
        "id": "01cc60e1-71d4-4ce6-8025-fb1da0ac3632"
      },
      "outputs": [],
      "source": [
        "r = np.einsum(\"x->x\", u)\n",
        "print(f\"r: {r}\")"
      ]
    },
    {
      "cell_type": "markdown",
      "id": "b5997867-52d4-42fa-b408-33f0cb6d7611",
      "metadata": {
        "id": "b5997867-52d4-42fa-b408-33f0cb6d7611"
      },
      "source": [
        "There is a shortcut for this operation. If we completely omit the `->` symbol and the right hand side, we can get as output the same vector as the input."
      ]
    },
    {
      "cell_type": "code",
      "execution_count": null,
      "id": "bbfc9acc-c6cb-4128-b9fd-7ae6637e33dd",
      "metadata": {
        "id": "bbfc9acc-c6cb-4128-b9fd-7ae6637e33dd"
      },
      "outputs": [],
      "source": [
        "r = np.einsum(\"i\", u)\n",
        "print(f\"r: {r}\")"
      ]
    },
    {
      "cell_type": "markdown",
      "id": "9bdb2e17-5de9-422b-9c25-84b977363097",
      "metadata": {
        "id": "9bdb2e17-5de9-422b-9c25-84b977363097"
      },
      "source": [
        "Another important feature of `einsum` is that if the same letter appears twice on the left-hand side, then corresponding elements from the two inputs on the dimension described by that letter will be pairwise multiplied by each other.\n",
        "\n",
        "In the example below, the result, `r`, is a vector of the same length as the two inputs `u` and `v`, and each of its elements is a product of two corresponding elements of `u` and `v`. That is, we want to compute `r` such that:\n",
        "\n",
        "$$\n",
        "r_i = u_i v_i\n",
        "$$"
      ]
    },
    {
      "cell_type": "code",
      "execution_count": null,
      "id": "827afb87-32f0-4db3-8a2f-94bbd37ab464",
      "metadata": {
        "id": "827afb87-32f0-4db3-8a2f-94bbd37ab464"
      },
      "outputs": [],
      "source": [
        "print(f\"u: {u}\")\n",
        "v = np.arange(vector_length, 2 * vector_length)\n",
        "print(f\"v: {v}\")\n",
        "print(f\"{v.shape=}\")\n",
        "\n",
        "r = np.einsum(\"i,i->i\", u, v)\n",
        "print(f\"r: {r}\")"
      ]
    },
    {
      "cell_type": "markdown",
      "id": "3e76f251-dfe3-44b5-a00e-f53a8270cfa2",
      "metadata": {
        "id": "3e76f251-dfe3-44b5-a00e-f53a8270cfa2"
      },
      "source": [
        "# Puzzle 1: inner product\n",
        "\n",
        "Use your knowledge from the previous two examples to compute the inner product of `u` and `v`, that is, compute the sum of the pairwise products of the elements of `u` and `v`. Remember that:\n",
        "- Repeating the same index twice on the left-hand side of `->` means that elements will be pairwise multiplied.\n",
        "- Omitting an index on the right-hand side of `->` means that we will sum all values along that dimension.\n",
        "\n",
        "The inner product is also implemented as `np.inner` and we will use that function to check the correctness of the answer.\n",
        "\n",
        "The result should be:\n",
        "\n",
        "$$\n",
        "r = \\sum_i u_i v_i\n",
        "$$"
      ]
    },
    {
      "cell_type": "code",
      "execution_count": null,
      "id": "f5b6228e-36d7-4fc9-9256-59e3c27fd13c",
      "metadata": {
        "id": "f5b6228e-36d7-4fc9-9256-59e3c27fd13c"
      },
      "outputs": [],
      "source": [
        "print(f\"u: {u}\")\n",
        "print(f\"v: {v}\")\n",
        "\n",
        "# Fill in the first argument to the np.einsum call below:\n",
        "inner_product = np.einsum(\"\", u, v)\n",
        "print(f\"r: {inner_product}\")\n",
        "\n",
        "check_answer(np.inner(u, v), inner_product)"
      ]
    },
    {
      "cell_type": "markdown",
      "id": "89150119-d7c0-4cea-a1ae-d41c06f1f919",
      "metadata": {
        "id": "89150119-d7c0-4cea-a1ae-d41c06f1f919"
      },
      "source": [
        "The same principle applies to matrices. Consider this snippet, which doesn't change the input."
      ]
    },
    {
      "cell_type": "code",
      "execution_count": null,
      "id": "0a74f03a-1754-4e25-9252-62cf6664e567",
      "metadata": {
        "id": "0a74f03a-1754-4e25-9252-62cf6664e567"
      },
      "outputs": [],
      "source": [
        "rows, cols = 3, 4\n",
        "a = np.arange(rows * cols).reshape(rows, cols)\n",
        "print(f\"{a.shape=}\")\n",
        "print(f\"a:\\n{a}\")\n",
        "\n",
        "r = np.einsum(\"ij->ij\", a)\n",
        "print(f\"{r.shape=}\")\n",
        "print(f\"r:\\n{r}\")"
      ]
    },
    {
      "cell_type": "markdown",
      "id": "e96d3359-302e-4eaf-b060-1c47daa23666",
      "metadata": {
        "id": "e96d3359-302e-4eaf-b060-1c47daa23666"
      },
      "source": [
        "# Puzzle 2: matrix transpose\n",
        "\n",
        "Since the order of letters in the subscripts string determines the order of dimensions, you can take advantage of that to permute dimensions of a tensor. How would you use that to transpose a matrix? Fill in the subscripts string below to solve this puzzle."
      ]
    },
    {
      "cell_type": "code",
      "execution_count": null,
      "id": "560d6fac-8533-4e53-b566-0c9e69582581",
      "metadata": {
        "id": "560d6fac-8533-4e53-b566-0c9e69582581"
      },
      "outputs": [],
      "source": [
        "# Fill in the first argument to the np.einsum call below:\n",
        "a_transpose = np.einsum(\"\", a)\n",
        "print(f\"{a_transpose.shape=}\")\n",
        "print(f\"a^T:\\n{a_transpose}\")\n",
        "\n",
        "check_answer(a.T, a_transpose)"
      ]
    },
    {
      "cell_type": "markdown",
      "id": "ea73f271-453b-4e52-9972-39e2471625dd",
      "metadata": {
        "id": "ea73f271-453b-4e52-9972-39e2471625dd"
      },
      "source": [
        "To summarize what we've learned so far:\n",
        "\n",
        "- Letters that appear in the subscripts string both to the left and right of the `\"->\"` arrow are called *free indices*. They indicate no change in the dimensions denoted by those indices.\n",
        "\n",
        "- If an index appears to the left of `\"->\"` but not to the right, it is called a *summation index* and `einsum` will add all values along that dimension. For example, we can use this to calculate the sum of all elements of our vector `u`.\n",
        "\n",
        "- If an index appears twice on the left hand side, we will perform pairwise multiplication of the corresponding elements."
      ]
    },
    {
      "cell_type": "markdown",
      "id": "b4071f8d-10e4-4a3d-acb6-0fa9faf3da35",
      "metadata": {
        "id": "b4071f8d-10e4-4a3d-acb6-0fa9faf3da35"
      },
      "source": [
        "Consider another summation example. This time, we have a matrix with 3 rows and 4 columns and we want to add all elements in each row. The result is a vector of three elements, in which the first element is the sum of all 4 elements in the first row of the array, and so on:\n",
        "\n",
        "$$\n",
        "r_i = \\sum_j a_{ij}\n",
        "$$\n",
        "\n",
        "We do this by not writing the column dimension (denoted by `j`) on the right-hand side:"
      ]
    },
    {
      "cell_type": "code",
      "execution_count": null,
      "id": "5988628e-a758-4e63-bb95-58a1e0411622",
      "metadata": {
        "id": "5988628e-a758-4e63-bb95-58a1e0411622"
      },
      "outputs": [],
      "source": [
        "rows, cols = 3, 4\n",
        "a = np.arange(rows * cols).reshape(rows, cols)\n",
        "print(f\"{a.shape=}\")\n",
        "print(f\"a:\\n{a}\")\n",
        "\n",
        "r = np.einsum(\"ij->i\", a)\n",
        "print(f\"{r.shape=}\")\n",
        "print(f\"r:\\n{r}\")"
      ]
    },
    {
      "cell_type": "markdown",
      "id": "dfaca732-0083-4540-83d9-831d67b8b640",
      "metadata": {
        "id": "dfaca732-0083-4540-83d9-831d67b8b640"
      },
      "source": [
        "# Puzzle 3: Summing columns of an array\n",
        "\n",
        "How would you create a vector containing the sum of each column in the matrix? For our matrix with 3 rows and 4 columns, the result should be a vector of 4 elements, in which each element is the sum of the values in the corresponding column.\n",
        "\n",
        "$$\n",
        "r_j = \\sum_i a_{ij}\n",
        "$$"
      ]
    },
    {
      "cell_type": "code",
      "execution_count": null,
      "id": "38cb6631-c4b5-4411-ba23-3c71a83e16d4",
      "metadata": {
        "id": "38cb6631-c4b5-4411-ba23-3c71a83e16d4"
      },
      "outputs": [],
      "source": [
        "# Fill in the first argument to the np.einsum call below:\n",
        "spec = np.sum(a, axis=0)\n",
        "\n",
        "print(f\"spec: {spec}\")\n",
        "r = np.einsum(\"\", a)\n",
        "print(f\"{r.shape=}\")\n",
        "print(f\"r:\\n{r}\")\n",
        "\n",
        "check_answer(spec, r)"
      ]
    },
    {
      "cell_type": "markdown",
      "id": "389f986a-858f-4d05-b3a8-a7c5d6e74f51",
      "metadata": {
        "id": "389f986a-858f-4d05-b3a8-a7c5d6e74f51"
      },
      "source": [
        "# A note on vectors in this colab\n",
        "\n",
        "Some of the examples operate on vectors and matrices. Depending on the type of operation, the vector will be either a row vector or a column vector. However, when Python prints a numpy vector, it is always printed in a single line of text, which makes it look like a row vector. If you want to figure out whether the vector is a row or column vector, you will need to use your knowledge of linear algebra.\n",
        "\n",
        "The two most common operations we will encounter are:\n",
        "- Multiplication of a vector by matrix: The vector is a *row vector* with length equal to the number of rows of the matrix. The result is a *row vector*.\n",
        "- Multiplication of a matrix by a vector: The vector is a *column vector* with length equal to the number of columns of the matrix. The result is a *column vector*."
      ]
    },
    {
      "cell_type": "code",
      "execution_count": null,
      "id": "1adb2b2f-6ed2-40cd-947b-1734a16868b2",
      "metadata": {
        "id": "1adb2b2f-6ed2-40cd-947b-1734a16868b2"
      },
      "outputs": [],
      "source": [
        "# Create a matrix and two vectors with lengths matching the number of rows and\n",
        "# the number of columns in the matrix, respectively.\n",
        "\n",
        "rows, cols = 3, 4\n",
        "a = np.arange(rows * cols).reshape(rows, cols)\n",
        "print(f\"{a.shape=}\")\n",
        "print(f\"a:\\n{a}\")\n",
        "\n",
        "u = np.arange(cols)\n",
        "print(f\"{u.shape=}\")\n",
        "print(f\"u: {u}\")\n",
        "\n",
        "w = np.arange(rows)\n",
        "print(f\"{w.shape=}\")\n",
        "print(f\"w: {w}\")\n",
        "\n",
        "print(\"\\nVector multiplied by matrix (the result is a row vector)\")\n",
        "wxa = w @ a\n",
        "print(f\"{wxa.shape=}\")\n",
        "print(f\"wxa: {wxa}\")\n",
        "\n",
        "\n",
        "print(\"\\nMatrix multiplied by vector (the result is a column vector)\")\n",
        "axu = a @ u\n",
        "print(f\"{axu.shape=}\")\n",
        "print(f\"axu: {axu}\")\n",
        "\n",
        "print(\"\\nUse matrix transpose to compute wxa as a column vector.\")\n",
        "wxa2 = a.T @ w\n",
        "print(f\"{wxa2.shape=}\")\n",
        "print(f\"wxa2:\\n{wxa2}\")\n",
        "print(\"In math, vectors wxa and wxa2 are row and column vectors, respectively.\")\n",
        "print(\"But in Python, they're printed the same way and have the same shape.\")\n",
        "\n",
        "print(\"\\nThese two vectors are equal to each other.\")\n",
        "print(f\"{np.array_equal(wxa, wxa2)=}\")"
      ]
    },
    {
      "cell_type": "markdown",
      "id": "3aad8eb2-b29f-4c57-b78b-a8afc67fa738",
      "metadata": {
        "id": "3aad8eb2-b29f-4c57-b78b-a8afc67fa738"
      },
      "source": [
        "# Puzzle 4: Multiply a matrix by a vector\n",
        "\n",
        "How would you multiply a matrix by a vector? The vector has length equal to the number of columns in the matrix and the result is a vector with length equal to the number of rows of the matrix.\n",
        "\n",
        "So, the $i$th element of the result can be expressed as:\n",
        "$$\n",
        "r_i = \\sum_j a_{ij}u_j\n",
        "$$"
      ]
    },
    {
      "cell_type": "code",
      "execution_count": null,
      "id": "6acc4143-9bc1-44d1-8ae9-a9926ed23d7b",
      "metadata": {
        "id": "6acc4143-9bc1-44d1-8ae9-a9926ed23d7b"
      },
      "outputs": [],
      "source": [
        "print(f\"{a.shape=}\")\n",
        "print(f\"a:\\n{a}\")\n",
        "\n",
        "print(f\"{u.shape=}\")\n",
        "print(f\"u: {u}\")\n",
        "\n",
        "spec = a @ u\n",
        "print(f\"{spec.shape=}\")\n",
        "print(f\"spec: {spec}\")\n",
        "\n",
        "r = np.einsum(\"\", a, u)\n",
        "print(f\"{r.shape=}\")\n",
        "print(f\"r:\\n{r}\")\n",
        "\n",
        "check_answer(spec, r)"
      ]
    },
    {
      "cell_type": "markdown",
      "id": "98f07f16-3b6a-4ab1-bf0f-355bde5f3ff4",
      "metadata": {
        "id": "98f07f16-3b6a-4ab1-bf0f-355bde5f3ff4"
      },
      "source": [
        "# Puzzle 5: Matrix multiplication\n",
        "\n",
        "Given what we've learned so far about `einsum`, matrix multiplication can be expressed in an elegant way. We need to perform an inner product along two matching dimensions, which we already did in Puzzle 1. The other two dimensions are unchanged."
      ]
    },
    {
      "cell_type": "code",
      "execution_count": null,
      "id": "c5acdd16-9e34-4335-9672-3988b77d1e9c",
      "metadata": {
        "id": "c5acdd16-9e34-4335-9672-3988b77d1e9c"
      },
      "outputs": [],
      "source": [
        "rows2 = cols\n",
        "cols2 = 5\n",
        "b = np.arange(rows2 * cols2).reshape(rows2, cols2)\n",
        "spec = a @ b\n",
        "\n",
        "# Fill in the first argument to the np.einsum call below.\n",
        "r = np.einsum(\"\", a, b)\n",
        "check_answer(spec, r)"
      ]
    },
    {
      "cell_type": "markdown",
      "id": "ed61f4b5-aa27-45a6-afbe-9e1133b9f8b3",
      "metadata": {
        "id": "ed61f4b5-aa27-45a6-afbe-9e1133b9f8b3"
      },
      "source": [
        "# Puzzle 6: Part of the attention kernel\n",
        "\n",
        "We will now look at a formula from the [Attention Is All You Need](https://arxiv.org/abs/1706.03762) paper. A part of the implementation of transformers computes this formula:\n",
        "\n",
        "$$\n",
        "\\text{Attention}(Q, K, V) = \\text{softmax}\\left( \\frac{Q K^T}{\\sqrt{d_k}} \\right)V\n",
        "$$\n",
        "\n",
        "For this puzzle, try to implement a small part of this formula:\n",
        "\n",
        "$$\n",
        "S = QK^T\n",
        "$$\n",
        "\n",
        "The nice thing about using `einsum` is that the whole operation can be performed in a single call. Without `einsum`, we need to first transpose $K$ and then multiply that with $Q$."
      ]
    },
    {
      "cell_type": "code",
      "execution_count": null,
      "id": "a9ce6013-22f5-4df4-940e-3033870b23d4",
      "metadata": {
        "id": "a9ce6013-22f5-4df4-940e-3033870b23d4"
      },
      "outputs": [],
      "source": [
        "# Assume that Q and K are matrices (tensors of rank 2).\n",
        "\n",
        "np.random.seed(42)\n",
        "Q = np.random.rand(4, 5)  # Query matrix (4 examples, 5 dimensions)\n",
        "K = np.random.rand(4, 5)  # Key matrix (4 examples, 5 dimensions)\n",
        "\n",
        "# Q multiplied by K transpose:\n",
        "scores_spec = Q @ K.T\n",
        "print(f\"{scores_spec.shape=}\")\n",
        "print(f\"scores_spec:\\n{scores_spec}\")\n",
        "\n",
        "# Fill in the first argument to the np.einsum call below. It should be similar\n",
        "# to what you did for matrix multiplication.\n",
        "scores = np.einsum(\"\", Q, K)\n",
        "print(f\"{scores.shape=}\")\n",
        "print(f\"scores:\\n{scores}\")\n",
        "\n",
        "check_answer(scores_spec, scores)"
      ]
    }
  ],
  "metadata": {
    "kernelspec": {
      "display_name": "Python 3 (ipykernel)",
      "language": "python",
      "name": "python3"
    },
    "language_info": {
      "codemirror_mode": {
        "name": "ipython",
        "version": 3
      },
      "file_extension": ".py",
      "mimetype": "text/x-python",
      "name": "python",
      "nbconvert_exporter": "python",
      "pygments_lexer": "ipython3",
      "version": "3.12.1"
    },
    "colab": {
      "provenance": []
    }
  },
  "nbformat": 4,
  "nbformat_minor": 5
}