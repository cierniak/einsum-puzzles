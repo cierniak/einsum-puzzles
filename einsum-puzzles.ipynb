{
 "cells": [
  {
   "cell_type": "markdown",
   "id": "d1cd6ce1-233a-4330-9e08-ba9891ca021d",
   "metadata": {},
   "source": [
    "# Einsum Puzzles\n",
    "This Colab will teach you how to use numpy.einsum through examples."
   ]
  },
  {
   "cell_type": "code",
   "execution_count": null,
   "id": "2f07eef4-42ae-4f89-97f7-e6969a9d0394",
   "metadata": {},
   "outputs": [],
   "source": [
    "# einsum is available nunmpy, torch and JAX, so the following would work:\n",
    "# np.einsum, torch.einsum, jnp.einsum\n",
    "# Let's start with numpy\n",
    "\n",
    "import numpy as np\n",
    "\n",
    "def check_answer(expected, given):\n",
    "  if expected.shape != given.shape:\n",
    "    print(\"Shape mismatch!\")\n",
    "    print(f\"Expected shape: {expected.shape}\")\n",
    "    print(f\"Given shape: {given.shape}\")\n",
    "    return\n",
    "  if np.all(expected == given):\n",
    "    print(\"Correct!\")\n",
    "  else:\n",
    "    print(\"Incorrect!\")"
   ]
  },
  {
   "cell_type": "markdown",
   "id": "eceeabbf-7896-4a5c-abd0-38627cf0b536",
   "metadata": {},
   "source": [
    "Einsum allows you to create operations in which multiple inputs (vectors, arrays or, more generally, tensors of any rank) are combined to create a single result. A typical call would look like this:\n",
    "```\n",
    "d = np.einsum(\"◻◻,◻◻◻,◻◻->◻◻\", a, b, c)\n",
    "```\n",
    "where `a`, `b`, and `c` are inputs and `d` is the results. The subscripts string `\"◻◻,◻◻◻,◻◻->◻◻\"` has two parts separated by `->`:\n",
    "- The left part describes the dimensions of the inputs. There will be one description per input and they are separated by commas.\n",
    "- The right part describes the dimensions of the result.\n",
    "\n",
    "Here's our first example:"
   ]
  },
  {
   "cell_type": "code",
   "execution_count": null,
   "id": "b9a8b3d3-6a11-47c1-8bb8-354eff5efd53",
   "metadata": {},
   "outputs": [],
   "source": [
    "vector_length = 5\n",
    "u = np.arange(vector_length)\n",
    "print(f\"{u.shape=}\")\n",
    "print(f\"u: {u}\")\n",
    "\n",
    "r = np.einsum(\"i->i\", u)\n",
    "print(f\"{r.shape=}\")\n",
    "print(f\"r: {r}\")"
   ]
  },
  {
   "cell_type": "markdown",
   "id": "2084a408-6dd8-42bc-94bc-6c14432e84ce",
   "metadata": {},
   "source": [
    "In the example above, there was one input `u` which was a vector. The left part of the subscripts string was `\"i\"`. The use of a single letter means that the input has one dimension. The output is also specified as `\"i\"`, so it ends up being identical to the input.\n",
    "\n",
    "The choice of the letter does't matter, so instead of `\"i\"` we could have used `\"x\"` or any other letter with the same result:"
   ]
  },
  {
   "cell_type": "code",
   "execution_count": null,
   "id": "01cc60e1-71d4-4ce6-8025-fb1da0ac3632",
   "metadata": {},
   "outputs": [],
   "source": [
    "r = np.einsum(\"x->x\", u)\n",
    "print(f\"r: {r}\")"
   ]
  },
  {
   "cell_type": "markdown",
   "id": "b5997867-52d4-42fa-b408-33f0cb6d7611",
   "metadata": {},
   "source": [
    "There is a shortcut for this operation. If we completely omit the `->` symbol and the right hand side, we can get as output the same vector as the input."
   ]
  },
  {
   "cell_type": "code",
   "execution_count": null,
   "id": "bbfc9acc-c6cb-4128-b9fd-7ae6637e33dd",
   "metadata": {},
   "outputs": [],
   "source": [
    "r = np.einsum(\"i\", u)\n",
    "print(f\"r: {r}\")"
   ]
  },
  {
   "cell_type": "markdown",
   "id": "9bdb2e17-5de9-422b-9c25-84b977363097",
   "metadata": {},
   "source": [
    "Another important feature of einsum is that if the same letter appears twice on the left hand side then corresponding elements from the two dimensions described by that letter will be pairwise multiplied by each other.\n",
    "\n",
    "In the example below, the result, `r`, is a vector of the same length as the two inputs `u` and `v` and each of its elements is a product of two corresponding elements of `u` and `v`, so we want to compute `r` such that:\n",
    "\n",
    "$$\n",
    "r_i = u_i v_i\n",
    "$$"
   ]
  },
  {
   "cell_type": "code",
   "execution_count": null,
   "id": "827afb87-32f0-4db3-8a2f-94bbd37ab464",
   "metadata": {},
   "outputs": [],
   "source": [
    "print(f\"u: {u}\")\n",
    "v = np.arange(vector_length, 2 * vector_length)\n",
    "print(f\"v: {v}\")\n",
    "print(f\"{v.shape=}\")\n",
    "\n",
    "r = np.einsum(\"i,i->i\", u, v)\n",
    "print(f\"r: {r}\")"
   ]
  },
  {
   "cell_type": "markdown",
   "id": "3e76f251-dfe3-44b5-a00e-f53a8270cfa2",
   "metadata": {},
   "source": [
    "# Puzzle 1: inner product\n",
    "\n",
    "Use your knowledge from the previous two examples to compute the inner product of `u` and `v`, that is compute a value which is the sum of pairwise products of elements of `u` and `v`. Remember that:\n",
    "- Repeating the same index twice on the left hand side of `->` means that elements will be pairwise multiplied.\n",
    "- Omitting an index on the right hand side of `->` means that we will sum all values along that dimension.\n",
    "\n",
    "Inner product is also implemented as `np.inner` and we will use that function to check the correctness of the answer.\n",
    "\n",
    "The result value should be:\n",
    "\n",
    "$$\n",
    "\\sum_i u_i v_i\n",
    "$$"
   ]
  },
  {
   "cell_type": "code",
   "execution_count": null,
   "id": "f5b6228e-36d7-4fc9-9256-59e3c27fd13c",
   "metadata": {},
   "outputs": [],
   "source": [
    "print(f\"u: {u}\")\n",
    "print(f\"v: {v}\")\n",
    "\n",
    "# Fill in the first argument to the np.einsum call below:\n",
    "inner_product = np.einsum(\"\", u, v)\n",
    "print(f\"r: {inner_product}\")\n",
    "\n",
    "check_answer(np.inner(u, v), inner_product)"
   ]
  },
  {
   "cell_type": "markdown",
   "id": "89150119-d7c0-4cea-a1ae-d41c06f1f919",
   "metadata": {},
   "source": [
    "The same principle applies to matrices. Consider this snippet which doesn't change the input."
   ]
  },
  {
   "cell_type": "code",
   "execution_count": null,
   "id": "0a74f03a-1754-4e25-9252-62cf6664e567",
   "metadata": {},
   "outputs": [],
   "source": [
    "rows, cols = 3, 4\n",
    "a = np.arange(rows * cols).reshape(rows, cols)\n",
    "print(f\"{a.shape=}\")\n",
    "print(f\"a:\\n{a}\")\n",
    "\n",
    "r = np.einsum(\"ij->ij\", a)\n",
    "print(f\"{r.shape=}\")\n",
    "print(f\"r:\\n{r}\")"
   ]
  },
  {
   "cell_type": "markdown",
   "id": "e96d3359-302e-4eaf-b060-1c47daa23666",
   "metadata": {},
   "source": [
    "# Puzzle 2: matrix transpose\n",
    "\n",
    "Since the order of letters in the subscripts string determines the order of dimensions, you can take advantage of that to permute dimensions of a tensor. How would you use that to transpose an array? Fill in the subsripts string below to solve this puzzle."
   ]
  },
  {
   "cell_type": "code",
   "execution_count": null,
   "id": "560d6fac-8533-4e53-b566-0c9e69582581",
   "metadata": {},
   "outputs": [],
   "source": [
    "# Fill in the first argument to the np.einsum call below:\n",
    "a_transpose = np.einsum(\"\", a)\n",
    "print(f\"{a_transpose.shape=}\")\n",
    "print(f\"a^T:\\n{a_transpose}\")\n",
    "\n",
    "check_answer(a.T, a_transpose)"
   ]
  },
  {
   "cell_type": "markdown",
   "id": "ea73f271-453b-4e52-9972-39e2471625dd",
   "metadata": {},
   "source": [
    "To summarize what we learnt so far:\n",
    "\n",
    "- Letters which appear in the subscripts string both to the left and right of the `\"->\"` arrow are called *free indices*. They indicate no change the dimension denoted by that index.\n",
    "\n",
    "- If an index appears to the left of `\"->\"` but not to the right is called a *summation index* and `einsum` will add all values along that dimension. We can use this to calculate the sum of all elements of our vector `u`.\n",
    "\n",
    "- If an index appears twice on the left hand side, we will perform pairwise multiplication of the corresponding elements."
   ]
  },
  {
   "cell_type": "markdown",
   "id": "b4071f8d-10e4-4a3d-acb6-0fa9faf3da35",
   "metadata": {},
   "source": [
    "Consider another summation example. This time we have an array with 3 rows and 4 columns and we want to add all elements in a given row, so we want to obtain a vector of three elements in which the first element is the sum of all 4 elements in the first row of the array and so on:\n",
    "\n",
    "$$\n",
    "r_i = \\sum_j a_{i,j}\n",
    "$$\n",
    "\n",
    "We make this happen by not listing the column dimension (denoted by `j`) on the right hand side:"
   ]
  },
  {
   "cell_type": "code",
   "execution_count": null,
   "id": "5988628e-a758-4e63-bb95-58a1e0411622",
   "metadata": {},
   "outputs": [],
   "source": [
    "rows, cols = 3, 4\n",
    "a = np.arange(rows * cols).reshape(rows, cols)\n",
    "print(f\"{a.shape=}\")\n",
    "print(f\"a:\\n{a}\")\n",
    "\n",
    "r = np.einsum(\"ij->i\", a)\n",
    "print(f\"{r.shape=}\")\n",
    "print(f\"r:\\n{r}\")"
   ]
  },
  {
   "cell_type": "markdown",
   "id": "dfaca732-0083-4540-83d9-831d67b8b640",
   "metadata": {},
   "source": [
    "# Puzzle 3: Summing columns of an array\n",
    "\n",
    "How would you create a vector which contains a value for the sum of each columns of the array? For our array of 3 rows and 4 columns, it should be a vector of 4 elements, each of them being the sum of the three corresponding elements.\n",
    "\n",
    "$$\n",
    "r_j = \\sum_i a_{i,j}\n",
    "$$"
   ]
  },
  {
   "cell_type": "code",
   "execution_count": null,
   "id": "38cb6631-c4b5-4411-ba23-3c71a83e16d4",
   "metadata": {},
   "outputs": [],
   "source": [
    "# Fill in the first argument to the np.einsum call below:\n",
    "spec = np.sum(a, axis=0)\n",
    "\n",
    "print(f\"spec: {spec}\")\n",
    "r = np.einsum(\"ij->j\", a)\n",
    "print(f\"{r.shape=}\")\n",
    "print(f\"r:\\n{r}\")\n",
    "\n",
    "check_answer(spec, r)"
   ]
  },
  {
   "cell_type": "markdown",
   "id": "389f986a-858f-4d05-b3a8-a7c5d6e74f51",
   "metadata": {},
   "source": [
    "# A note on vectors in this colab\n",
    "\n",
    "Some of the examples operate on vectors and arrays. Depending on the type of operation, the vector will be either a row vector or a column vector. However when Python prints a numpy vector, it is always printed in a single line of text which makes is appear like a row vector. If you want to visualize if the vector is a row or column, you will need to use your knowledge of linear algebra.\n",
    "\n",
    "The two most common operations we will encounter are:\n",
    "- multiplication of a vector by matrix: the vector is a *row vector* of length equal to the number of rows of the matrix. The result is a *row vector*.\n",
    "- multiplication of a matrix by a vector: the vector is a *column vector* of length equal to the number of columns of the matrix. The result is a *column vector*."
   ]
  },
  {
   "cell_type": "code",
   "execution_count": null,
   "id": "1adb2b2f-6ed2-40cd-947b-1734a16868b2",
   "metadata": {},
   "outputs": [],
   "source": [
    "# Create a matrix and two vectors of the matching lengths\n",
    "\n",
    "rows, cols = 3, 4\n",
    "a = np.arange(rows * cols).reshape(rows, cols)\n",
    "print(f\"{a.shape=}\")\n",
    "print(f\"a:\\n{a}\")\n",
    "\n",
    "u = np.arange(cols)\n",
    "print(f\"{u.shape=}\")\n",
    "print(f\"u: {u}\")\n",
    "\n",
    "w = np.arange(rows)\n",
    "print(f\"{w.shape=}\")\n",
    "print(f\"w: {w}\")\n",
    "\n",
    "print(\"\\nVector multiplied by matrix (the result is a row vector)\")\n",
    "wxa = w @ a\n",
    "print(f\"{wxa.shape=}\")\n",
    "print(f\"wxa: {wxa}\")\n",
    "\n",
    "\n",
    "print(\"\\nMatrix multiplied by vector (the result is a column vector)\")\n",
    "axu = a @ u\n",
    "print(f\"{axu.shape=}\")\n",
    "print(f\"axu: {axu}\")\n",
    "\n",
    "print(\"\\nUse matrix transpose to compute wxa as a column vector.\")\n",
    "wxa2 = a.T @ w\n",
    "print(f\"{wxa2.shape=}\")\n",
    "print(f\"wxa2:\\n{wxa2}\")\n",
    "print(\"In math vectors wxa and wxa2 would have be row and column.\")\n",
    "print(\"But in Python they're printed the same way and have the same shape.\")\n",
    "\n",
    "print(\"\\nThese two vectors are equal to each other.\")\n",
    "print(f\"{np.array_equal(wxa, wxa2)=}\")"
   ]
  },
  {
   "cell_type": "markdown",
   "id": "3aad8eb2-b29f-4c57-b78b-a8afc67fa738",
   "metadata": {},
   "source": [
    "# Puzzle 4: Multiply a matrix by a vector\n",
    "\n",
    "How would you multiply a matrix by a vector? The vector is of the length equal to the number of columns in the matrix and the result is a vector of length equal to the number of rows of the matrix.\n",
    "\n",
    "So, the i'th element of the result can be expressed as:\n",
    "$$\n",
    "r_i = \\sum_j a_{i,j}u_j\n",
    "$$"
   ]
  },
  {
   "cell_type": "code",
   "execution_count": null,
   "id": "6acc4143-9bc1-44d1-8ae9-a9926ed23d7b",
   "metadata": {},
   "outputs": [],
   "source": [
    "print(f\"{a.shape=}\")\n",
    "print(f\"a:\\n{a}\")\n",
    "\n",
    "print(f\"{u.shape=}\")\n",
    "print(f\"u: {u}\")\n",
    "\n",
    "spec = a @ u\n",
    "print(f\"{spec.shape=}\")\n",
    "print(f\"spec: {spec}\")\n",
    "\n",
    "r = np.einsum('', a, u)\n",
    "print(f\"{r.shape=}\")\n",
    "print(f\"r:\\n{r}\")\n",
    "\n",
    "check_answer(spec, r)"
   ]
  },
  {
   "cell_type": "markdown",
   "id": "98f07f16-3b6a-4ab1-bf0f-355bde5f3ff4",
   "metadata": {},
   "source": [
    "# Puzzle 5: Matrix multiplication\n",
    "\n",
    "Given what we've learned so far about `einsum`, matrix multiplication is easy to express since we perform an inner product along two matching dimensions and we already did this in Puzzle 1. The other two dimensions are unchanged."
   ]
  },
  {
   "cell_type": "code",
   "execution_count": null,
   "id": "c5acdd16-9e34-4335-9672-3988b77d1e9c",
   "metadata": {},
   "outputs": [],
   "source": [
    "rows2 = cols\n",
    "cols2 = 5\n",
    "b = np.arange(rows2 * cols2).reshape(rows2, cols2)\n",
    "spec = a @ b\n",
    "\n",
    "r = np.einsum('', a, b)\n",
    "check_answer(spec, r)"
   ]
  },
  {
   "cell_type": "code",
   "execution_count": null,
   "id": "fb2be158-6836-400d-a0fc-c8e43b2b5bfd",
   "metadata": {},
   "outputs": [],
   "source": []
  }
 ],
 "metadata": {
  "kernelspec": {
   "display_name": "Python 3 (ipykernel)",
   "language": "python",
   "name": "python3"
  },
  "language_info": {
   "codemirror_mode": {
    "name": "ipython",
    "version": 3
   },
   "file_extension": ".py",
   "mimetype": "text/x-python",
   "name": "python",
   "nbconvert_exporter": "python",
   "pygments_lexer": "ipython3",
   "version": "3.12.1"
  }
 },
 "nbformat": 4,
 "nbformat_minor": 5
}
