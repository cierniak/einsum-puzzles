{
 "cells": [
  {
   "cell_type": "markdown",
   "id": "d1cd6ce1-233a-4330-9e08-ba9891ca021d",
   "metadata": {},
   "source": [
    "# Einsum Puzzles\n",
    "This Colab will teach you how to use numpy.einsum through examples."
   ]
  },
  {
   "cell_type": "code",
   "execution_count": null,
   "id": "2f07eef4-42ae-4f89-97f7-e6969a9d0394",
   "metadata": {},
   "outputs": [],
   "source": []
  }
 ],
 "metadata": {
  "kernelspec": {
   "display_name": "Python 3 (ipykernel)",
   "language": "python",
   "name": "python3"
  },
  "language_info": {
   "codemirror_mode": {
    "name": "ipython",
    "version": 3
   },
   "file_extension": ".py",
   "mimetype": "text/x-python",
   "name": "python",
   "nbconvert_exporter": "python",
   "pygments_lexer": "ipython3",
   "version": "3.12.1"
  }
 },
 "nbformat": 4,
 "nbformat_minor": 5
}
